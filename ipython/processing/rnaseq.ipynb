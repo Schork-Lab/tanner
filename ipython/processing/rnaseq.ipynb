{
 "metadata": {
  "name": "",
  "signature": "sha256:ccea2595cc48b3ad9ae5bf49aea9394dd40b099ad9df52e6dae98b482047e7fa"
 },
 "nbformat": 3,
 "nbformat_minor": 0,
 "worksheets": [
  {
   "cells": [
    {
     "cell_type": "code",
     "collapsed": false,
     "input": [
      "import sys\n",
      "sys.path.append('../../../src/')\n",
      "%load_ext autoreload\n",
      "%autoreload 2"
     ],
     "language": "python",
     "metadata": {},
     "outputs": [],
     "prompt_number": 1
    },
    {
     "cell_type": "code",
     "collapsed": false,
     "input": [
      "from helpers import *"
     ],
     "language": "python",
     "metadata": {},
     "outputs": [],
     "prompt_number": 2
    },
    {
     "cell_type": "code",
     "collapsed": false,
     "input": [
      "run_template_yaml = os.path.join(local_code, 'pipeline/rnaseq/run_template.yaml')\n",
      "sample_template_yaml = os.path.join(local_code, 'pipeline/rnaseq/sample_template.yaml')"
     ],
     "language": "python",
     "metadata": {},
     "outputs": [],
     "prompt_number": 3
    },
    {
     "cell_type": "code",
     "collapsed": false,
     "input": [
      "!head $run_template_yaml"
     ],
     "language": "python",
     "metadata": {},
     "outputs": [
      {
       "output_type": "stream",
       "stream": "stdout",
       "text": [
        "fc_date: experiment_date\r\n",
        "fc_name: experiment_name\r\n",
        "upload:\r\n",
        "  dir: output_dir\r\n",
        "details:\r\n"
       ]
      }
     ],
     "prompt_number": 4
    },
    {
     "cell_type": "code",
     "collapsed": false,
     "input": [
      "!head $sample_template_yaml"
     ],
     "language": "python",
     "metadata": {},
     "outputs": [
      {
       "output_type": "stream",
       "stream": "stdout",
       "text": [
        "  - files: [file1]\r\n",
        "    description: sample_name\r\n",
        "    genome_build: GRCh37\r\n",
        "    analysis: RNA-seq\r\n",
        "    algorithm:\r\n",
        "         variantcaller: gatk\r\n",
        "         aligner: tophat2\r\n",
        "         rsem: True\r\n",
        "         quality_format: Standard\r\n",
        "         trim_reads: read_through\r\n"
       ]
      }
     ],
     "prompt_number": 5
    },
    {
     "cell_type": "code",
     "collapsed": false,
     "input": [
      "import datetime\n",
      "today = datetime.date.today()\n",
      "todays_date = today.strftime('%m%d%Y')"
     ],
     "language": "python",
     "metadata": {},
     "outputs": [],
     "prompt_number": 6
    },
    {
     "cell_type": "code",
     "collapsed": false,
     "input": [
      "todays_date = '03202015'"
     ],
     "language": "python",
     "metadata": {},
     "outputs": [],
     "prompt_number": 10
    },
    {
     "cell_type": "code",
     "collapsed": false,
     "input": [
      "rnaseq_dir = os.path.join(local_data, 'family3/rna-seq')\n",
      "samples_dir = os.path.join(rnaseq_dir, 'fastq')\n",
      "output_dir = os.path.join(rnaseq_dir, 'bcbio_%s' % todays_date)\n",
      "if not os.path.exists(output_dir): os.mkdir(output_dir)\n",
      "out_template = os.path.join(output_dir, 'rnaseq_all_samples.yaml')\n",
      "\n",
      "run_info = {}\n",
      "run_info['experiment_date'] = todays_date\n",
      "run_info['experiment_name'] = 'Tanner RNASeq'\n",
      "run_info['output_dir'] = tsccify_command(output_dir)"
     ],
     "language": "python",
     "metadata": {},
     "outputs": [],
     "prompt_number": 11
    },
    {
     "cell_type": "code",
     "collapsed": false,
     "input": [
      "run_info"
     ],
     "language": "python",
     "metadata": {},
     "outputs": [
      {
       "metadata": {},
       "output_type": "pyout",
       "prompt_number": 12,
       "text": [
        "{'experiment_date': '03202015',\n",
        " 'experiment_name': 'Tanner RNASeq',\n",
        " 'output_dir': '/projects/ps-jcvi/projects/Li-Fraumeni/data/family3/rna-seq/bcbio_03202015'}"
       ]
      }
     ],
     "prompt_number": 12
    },
    {
     "cell_type": "code",
     "collapsed": false,
     "input": [
      "sample_files = os.listdir(samples_dir)"
     ],
     "language": "python",
     "metadata": {},
     "outputs": [],
     "prompt_number": 16
    },
    {
     "cell_type": "code",
     "collapsed": false,
     "input": [
      "sample_files"
     ],
     "language": "python",
     "metadata": {},
     "outputs": [
      {
       "metadata": {},
       "output_type": "pyout",
       "prompt_number": 22,
       "text": [
        "['6_GCCAAT_L006_R1_001.fastq.gz',\n",
        " '2_GATCAG_L003_R1_001.fastq.gz',\n",
        " '5_ACAGTG_L006_R1_001.fastq.gz',\n",
        " '8_GTGAAA_L006_R1_001.fastq.gz',\n",
        " '4_ATTCCT_L003_R1_001.fastq.gz',\n",
        " '3_CGTACG_L003_R1_001.fastq.gz',\n",
        " '7_CTTGTA_L006_R1_001.fastq.gz',\n",
        " '10-1_CTTGTA_L001_R1_Combined.fastq.gz',\n",
        " '9-1_GCCAAT_L001_R1_Combined.fastq.gz',\n",
        " '1_TTAGGC_L003_R1_001.fastq.gz']"
       ]
      }
     ],
     "prompt_number": 22
    },
    {
     "cell_type": "code",
     "collapsed": false,
     "input": [
      "sample_ids = \"\"\"\n",
      "001_002_RNA_Blood_Scripps-1_09-25-14\n",
      "001_003_RNA_Blood_Scripps-2_09-25-14\n",
      "001_004_RNA_Blood_Scripps-3_09-25-14\n",
      "001_005_RNA_Blood_Scripps-4_09-25-14\n",
      "001_002_RNA_Blood_Scripps-5_10-29-14\n",
      "001_003_RNA_Blood_Scripps-6_10-29-14\n",
      "001_002_RNA_Blood_Scripps-7_11-25-14\n",
      "001_003_RNA_Blood_Scripps-8_11-25-14\n",
      "001_002_RNA_Blood_Scripps-9-1_12-19-14\n",
      "001_002_RNA_Blood_Scripps-10-1_02-02-15\n",
      "\"\"\".split()\n",
      "sample_matches = lambda sample_fn, sample_id: sample_fn.split('_')[0].split('-')[0] == sample_id.split('_')[-2].split('-')[1]\n",
      "sample_map = dict((sample_id, sample_fn) \n",
      "                  for sample_fn in sample_files\n",
      "                  for sample_id in sample_ids\n",
      "                  if sample_matches(sample_fn, sample_id))"
     ],
     "language": "python",
     "metadata": {},
     "outputs": [],
     "prompt_number": 25
    },
    {
     "cell_type": "code",
     "collapsed": false,
     "input": [
      "sample_map"
     ],
     "language": "python",
     "metadata": {},
     "outputs": [
      {
       "metadata": {},
       "output_type": "pyout",
       "prompt_number": 26,
       "text": [
        "{'001_002_RNA_Blood_Scripps-10-1_02-02-15': '10-1_CTTGTA_L001_R1_Combined.fastq.gz',\n",
        " '001_002_RNA_Blood_Scripps-1_09-25-14': '1_TTAGGC_L003_R1_001.fastq.gz',\n",
        " '001_002_RNA_Blood_Scripps-5_10-29-14': '5_ACAGTG_L006_R1_001.fastq.gz',\n",
        " '001_002_RNA_Blood_Scripps-7_11-25-14': '7_CTTGTA_L006_R1_001.fastq.gz',\n",
        " '001_002_RNA_Blood_Scripps-9-1_12-19-14': '9-1_GCCAAT_L001_R1_Combined.fastq.gz',\n",
        " '001_003_RNA_Blood_Scripps-2_09-25-14': '2_GATCAG_L003_R1_001.fastq.gz',\n",
        " '001_003_RNA_Blood_Scripps-6_10-29-14': '6_GCCAAT_L006_R1_001.fastq.gz',\n",
        " '001_003_RNA_Blood_Scripps-8_11-25-14': '8_GTGAAA_L006_R1_001.fastq.gz',\n",
        " '001_004_RNA_Blood_Scripps-3_09-25-14': '3_CGTACG_L003_R1_001.fastq.gz',\n",
        " '001_005_RNA_Blood_Scripps-4_09-25-14': '4_ATTCCT_L003_R1_001.fastq.gz'}"
       ]
      }
     ],
     "prompt_number": 26
    },
    {
     "cell_type": "code",
     "collapsed": false,
     "input": [
      "tscc_samples_dir = tsccify_command(samples_dir)\n",
      "sample_info = {}\n",
      "with open(out_template, 'w') as OUT:\n",
      "    with open(run_template_yaml) as RUN:\n",
      "        for line in RUN:\n",
      "            for key, value in run_info.items():\n",
      "                line = line.replace(key, value)\n",
      "            OUT.write(line)\n",
      "    for sample_id, sample_fn in sample_map.iteritems():\n",
      "        sample_info['file1'] = os.path.join(tscc_samples_dir, sample_fn)\n",
      "        sample_info['sample_name'] = sample_id\n",
      "        with open(sample_template_yaml) as SAMPLE:\n",
      "            for line in SAMPLE:\n",
      "                for key, value in sample_info.items():\n",
      "                    line = line.replace(key, value)\n",
      "                OUT.write(line)\n",
      "        "
     ],
     "language": "python",
     "metadata": {},
     "outputs": [],
     "prompt_number": 27
    },
    {
     "cell_type": "code",
     "collapsed": false,
     "input": [
      "out_template"
     ],
     "language": "python",
     "metadata": {},
     "outputs": [
      {
       "metadata": {},
       "output_type": "pyout",
       "prompt_number": 28,
       "text": [
        "'/home/kunal/tscc_projects/tanner/data/family3/rna-seq/bcbio_03202015/rnaseq_all_samples.yaml'"
       ]
      }
     ],
     "prompt_number": 28
    },
    {
     "cell_type": "code",
     "collapsed": false,
     "input": [
      "!cat $out_template"
     ],
     "language": "python",
     "metadata": {},
     "outputs": [
      {
       "output_type": "stream",
       "stream": "stdout",
       "text": [
        "fc_date: 03202015\r\n",
        "fc_name: Tanner RNASeq\r\n",
        "upload:\r\n",
        "  dir: /projects/ps-jcvi/projects/Li-Fraumeni/data/family3/rna-seq/bcbio_03202015\r\n",
        "details:\r\n",
        "  - files: [/projects/ps-jcvi/projects/Li-Fraumeni/data/family3/rna-seq/fastq/3_CGTACG_L003_R1_001.fastq.gz]\r\n",
        "    description: 001_004_RNA_Blood_Scripps-3_09-25-14\r\n",
        "    genome_build: GRCh37\r\n",
        "    analysis: RNA-seq\r\n",
        "    algorithm:\r\n",
        "         variantcaller: gatk\r\n",
        "         aligner: tophat2\r\n",
        "         rsem: True\r\n",
        "         quality_format: Standard\r\n",
        "         trim_reads: read_through\r\n",
        "         adapters: [truseq, polya]\r\n",
        "         strandedness: unstranded\r\n",
        "  - files: [/projects/ps-jcvi/projects/Li-Fraumeni/data/family3/rna-seq/fastq/7_CTTGTA_L006_R1_001.fastq.gz]\r\n",
        "    description: 001_002_RNA_Blood_Scripps-7_11-25-14\r\n",
        "    genome_build: GRCh37\r\n",
        "    analysis: RNA-seq\r\n",
        "    algorithm:\r\n",
        "         variantcaller: gatk\r\n",
        "         aligner: tophat2\r\n",
        "         rsem: True\r\n",
        "         quality_format: Standard\r\n",
        "         trim_reads: read_through\r\n",
        "         adapters: [truseq, polya]\r\n",
        "         strandedness: unstranded\r\n",
        "  - files: [/projects/ps-jcvi/projects/Li-Fraumeni/data/family3/rna-seq/fastq/2_GATCAG_L003_R1_001.fastq.gz]\r\n",
        "    description: 001_003_RNA_Blood_Scripps-2_09-25-14\r\n",
        "    genome_build: GRCh37\r\n",
        "    analysis: RNA-seq\r\n",
        "    algorithm:\r\n",
        "         variantcaller: gatk\r\n",
        "         aligner: tophat2\r\n",
        "         rsem: True\r\n",
        "         quality_format: Standard\r\n",
        "         trim_reads: read_through\r\n",
        "         adapters: [truseq, polya]\r\n",
        "         strandedness: unstranded\r\n",
        "  - files: [/projects/ps-jcvi/projects/Li-Fraumeni/data/family3/rna-seq/fastq/4_ATTCCT_L003_R1_001.fastq.gz]\r\n",
        "    description: 001_005_RNA_Blood_Scripps-4_09-25-14\r\n",
        "    genome_build: GRCh37\r\n",
        "    analysis: RNA-seq\r\n",
        "    algorithm:\r\n",
        "         variantcaller: gatk\r\n",
        "         aligner: tophat2\r\n",
        "         rsem: True\r\n",
        "         quality_format: Standard\r\n",
        "         trim_reads: read_through\r\n",
        "         adapters: [truseq, polya]\r\n",
        "         strandedness: unstranded\r\n",
        "  - files: [/projects/ps-jcvi/projects/Li-Fraumeni/data/family3/rna-seq/fastq/1_TTAGGC_L003_R1_001.fastq.gz]\r\n",
        "    description: 001_002_RNA_Blood_Scripps-1_09-25-14\r\n",
        "    genome_build: GRCh37\r\n",
        "    analysis: RNA-seq\r\n",
        "    algorithm:\r\n",
        "         variantcaller: gatk\r\n",
        "         aligner: tophat2\r\n",
        "         rsem: True\r\n",
        "         quality_format: Standard\r\n",
        "         trim_reads: read_through\r\n",
        "         adapters: [truseq, polya]\r\n",
        "         strandedness: unstranded\r\n",
        "  - files: [/projects/ps-jcvi/projects/Li-Fraumeni/data/family3/rna-seq/fastq/8_GTGAAA_L006_R1_001.fastq.gz]\r\n",
        "    description: 001_003_RNA_Blood_Scripps-8_11-25-14\r\n",
        "    genome_build: GRCh37\r\n",
        "    analysis: RNA-seq\r\n",
        "    algorithm:\r\n",
        "         variantcaller: gatk\r\n",
        "         aligner: tophat2\r\n",
        "         rsem: True\r\n",
        "         quality_format: Standard\r\n",
        "         trim_reads: read_through\r\n",
        "         adapters: [truseq, polya]\r\n",
        "         strandedness: unstranded\r\n",
        "  - files: [/projects/ps-jcvi/projects/Li-Fraumeni/data/family3/rna-seq/fastq/6_GCCAAT_L006_R1_001.fastq.gz]\r\n",
        "    description: 001_003_RNA_Blood_Scripps-6_10-29-14\r\n",
        "    genome_build: GRCh37\r\n",
        "    analysis: RNA-seq\r\n",
        "    algorithm:\r\n",
        "         variantcaller: gatk\r\n",
        "         aligner: tophat2\r\n",
        "         rsem: True\r\n",
        "         quality_format: Standard\r\n",
        "         trim_reads: read_through\r\n",
        "         adapters: [truseq, polya]\r\n",
        "         strandedness: unstranded\r\n",
        "  - files: [/projects/ps-jcvi/projects/Li-Fraumeni/data/family3/rna-seq/fastq/10-1_CTTGTA_L001_R1_Combined.fastq.gz]\r\n",
        "    description: 001_002_RNA_Blood_Scripps-10-1_02-02-15\r\n",
        "    genome_build: GRCh37\r\n",
        "    analysis: RNA-seq\r\n",
        "    algorithm:\r\n",
        "         variantcaller: gatk\r\n",
        "         aligner: tophat2\r\n",
        "         rsem: True\r\n",
        "         quality_format: Standard\r\n",
        "         trim_reads: read_through\r\n",
        "         adapters: [truseq, polya]\r\n",
        "         strandedness: unstranded\r\n",
        "  - files: [/projects/ps-jcvi/projects/Li-Fraumeni/data/family3/rna-seq/fastq/5_ACAGTG_L006_R1_001.fastq.gz]\r\n",
        "    description: 001_002_RNA_Blood_Scripps-5_10-29-14\r\n",
        "    genome_build: GRCh37\r\n",
        "    analysis: RNA-seq\r\n",
        "    algorithm:\r\n",
        "         variantcaller: gatk\r\n",
        "         aligner: tophat2\r\n",
        "         rsem: True\r\n",
        "         quality_format: Standard\r\n",
        "         trim_reads: read_through\r\n",
        "         adapters: [truseq, polya]\r\n",
        "         strandedness: unstranded\r\n",
        "  - files: [/projects/ps-jcvi/projects/Li-Fraumeni/data/family3/rna-seq/fastq/9-1_GCCAAT_L001_R1_Combined.fastq.gz]\r\n",
        "    description: 001_002_RNA_Blood_Scripps-9-1_12-19-14\r\n",
        "    genome_build: GRCh37\r\n",
        "    analysis: RNA-seq\r\n",
        "    algorithm:\r\n",
        "         variantcaller: gatk\r\n",
        "         aligner: tophat2\r\n",
        "         rsem: True\r\n",
        "         quality_format: Standard\r\n",
        "         trim_reads: read_through\r\n",
        "         adapters: [truseq, polya]\r\n",
        "         strandedness: unstranded\r\n"
       ]
      }
     ],
     "prompt_number": 29
    },
    {
     "cell_type": "code",
     "collapsed": false,
     "input": [
      "qsub_cmds = []\n",
      "qsub_cmds.append(\"cd %s\" % output_dir)\n",
      "qsub_cmds.append(\"bcbio_nextgen.py %s -t local -n 16\" % (out_template))\n",
      "qsub_cmds = [tsccify_command(cmd)\n",
      "             for cmd in qsub_cmds]\n",
      "qsub_fn = out_template.replace('.yaml','.qsub')\n",
      "write_qsub(qsub_fn, qsub_cmds, ppn=16, walltime=\"48:00:00\")"
     ],
     "language": "python",
     "metadata": {},
     "outputs": [
      {
       "output_type": "stream",
       "stream": "stdout",
       "text": [
        "qsub /home/kunal/tscc_projects/tanner/data/family3/rna-seq/bcbio_03202015/rnaseq_all_samples.qsub\n"
       ]
      }
     ],
     "prompt_number": 30
    },
    {
     "cell_type": "code",
     "collapsed": false,
     "input": [
      "!cat $qsub_fn"
     ],
     "language": "python",
     "metadata": {},
     "outputs": [
      {
       "output_type": "stream",
       "stream": "stdout",
       "text": [
        "#PBS -q Job \r\n",
        "#PBS -q hotel \r\n",
        "#PBS -o /projects/ps-jcvi/projects/Li-Fraumeni/data/family3/rna-seq/bcbio_03202015/rnaseq_all_samples.qsub.oe \r\n",
        "#PBS -M kunalbhutani@gmail.com \r\n",
        "#PBS -l walltime=48:00:00 \r\n",
        "#PBS -l nodes=1:ppn=16 \r\n",
        "#PBS -j oe \r\n",
        "#PBS -m abe \r\n",
        "echo \"<startTime>\"`date`\"</startTime>\"\r\n",
        "echo \"<output>\"\r\n",
        "cd /projects/ps-jcvi/projects/Li-Fraumeni/data/family3/rna-seq/bcbio_03202015\r\n",
        "bcbio_nextgen.py /projects/ps-jcvi/projects/Li-Fraumeni/data/family3/rna-seq/bcbio_03202015/rnaseq_all_samples.yaml -t local -n 16\r\n",
        "echo \"</output>\"\r\n",
        "echo \"<exitStatus>\"$?\"</exitStatus>\"\r\n",
        "echo \"<stopTime>\"`date`\"</stopTime>\"\r\n",
        "qstat -f $PBS_JOBID | grep Job \r\n",
        "qstat -f $PBS_JOBID | grep Resource\r\n"
       ]
      }
     ],
     "prompt_number": 31
    },
    {
     "cell_type": "code",
     "collapsed": false,
     "input": [
      "tsccify_command(qsub_fn)"
     ],
     "language": "python",
     "metadata": {},
     "outputs": [
      {
       "metadata": {},
       "output_type": "pyout",
       "prompt_number": 48,
       "text": [
        "'/projects/ps-jcvi/projects/Li-Fraumeni/data/family3/rna-seq/bcbio_03202015/rnaseq_all_samples.qsub'"
       ]
      }
     ],
     "prompt_number": 48
    },
    {
     "cell_type": "code",
     "collapsed": false,
     "input": [],
     "language": "python",
     "metadata": {},
     "outputs": []
    }
   ],
   "metadata": {}
  }
 ]
}