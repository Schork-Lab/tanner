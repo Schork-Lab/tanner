{
 "cells": [
  {
   "cell_type": "code",
   "execution_count": 62,
   "metadata": {
    "collapsed": false
   },
   "outputs": [
    {
     "name": "stdout",
     "output_type": "stream",
     "text": [
      "Populating the interactive namespace from numpy and matplotlib\n"
     ]
    }
   ],
   "source": [
    "import os\n",
    "import glob\n",
    "import pysam\n",
    "import pandas as pd\n",
    "import seaborn as sns\n",
    "%pylab inline\n",
    "import tanner.analysis.rnaseq as rnaseq"
   ]
  },
  {
   "cell_type": "code",
   "execution_count": 63,
   "metadata": {
    "collapsed": false
   },
   "outputs": [
    {
     "data": {
      "text/plain": [
       "<module 'tanner.analysis.rnaseq' from '/mounts/tscc/projects/Li-Fraumeni/code/tanner/analysis/rnaseq.pyc'>"
      ]
     },
     "execution_count": 63,
     "metadata": {},
     "output_type": "execute_result"
    }
   ],
   "source": [
    "reload(rnaseq)"
   ]
  },
  {
   "cell_type": "code",
   "execution_count": 64,
   "metadata": {
    "collapsed": false
   },
   "outputs": [],
   "source": [
    "rnaseq_dir = '/mounts/tscc/projects/Li-Fraumeni/data/family3/rna-seq/updated_runs/'\n",
    "aggregated_dir = os.path.join(rnaseq_dir, \"11292015_Tanner_RNASeq\")"
   ]
  },
  {
   "cell_type": "code",
   "execution_count": 36,
   "metadata": {
    "collapsed": false
   },
   "outputs": [
    {
     "name": "stdout",
     "output_type": "stream",
     "text": [
      "annotated_combined.counts\t combined.isoform.fpkm\r\n",
      "bcbio-nextgen-commands.log\t combined.vcf\r\n",
      "bcbio-nextgen.log\t\t deseq.counts\r\n",
      "combined.counts\t\t\t deseq.regularized.log.counts\r\n",
      "combined.dexseq\t\t\t deseq.variance.stablized.counts\r\n",
      "combined.fpkm\t\t\t isoform_to_gene.txt\r\n",
      "combined.isoform.express_counts  programs.txt\r\n",
      "combined.isoform.express_fpkm\t project-summary.yaml\r\n",
      "combined.isoform.express_tpm\r\n"
     ]
    }
   ],
   "source": [
    "!ls $rnaseq_dir"
   ]
  },
  {
   "cell_type": "code",
   "execution_count": 65,
   "metadata": {
    "collapsed": true
   },
   "outputs": [],
   "source": [
    "deseq = rnaseq.load_deseq(aggregated_dir)"
   ]
  },
  {
   "cell_type": "code",
   "execution_count": 48,
   "metadata": {
    "collapsed": true
   },
   "outputs": [],
   "source": [
    "count_df = os.path.join(aggregated_dir, 'annotated_combined.counts')\n",
    "count_df = pd.read_table(count_df)"
   ]
  },
  {
   "cell_type": "code",
   "execution_count": 59,
   "metadata": {
    "collapsed": true
   },
   "outputs": [],
   "source": [
    "import glob"
   ]
  },
  {
   "cell_type": "code",
   "execution_count": 66,
   "metadata": {
    "collapsed": true
   },
   "outputs": [],
   "source": [
    "bam_files = glob.glob(os.path.join(rnaseq_dir, \"*/*-ready.bam\"))"
   ]
  },
  {
   "cell_type": "code",
   "execution_count": 68,
   "metadata": {
    "collapsed": false
   },
   "outputs": [
    {
     "name": "stdout",
     "output_type": "stream",
     "text": [
      "001_002_RNA_Blood_Scripps-13-1_05-11-15\n",
      "001_002_RNA_Blood_Scripps-9-1_12-19-14\n",
      "\tbase in read NS500704:87:HL5HNBGXX:4:13608:2382:6611 = C\n",
      "001_004_RNA_Blood_Scripps-3_09-25-14\n",
      "001_005_RNA_Blood_Scripps-4_09-25-14\n",
      "001_002_RNA_Blood_Scripps-10-1_02-02-15\n",
      "\tbase in read NS500704:87:HL5HNBGXX:3:22410:4123:18945 = C\n",
      "001_002_RNA_Blood_Scripps-5_10-29-14\n",
      "001_002_RNA_Blood_Scripps-16-1_08-10-15\n",
      "\tbase in read NS500704:71:HJ5M3BGXX:3:22404:15407:3417 = T\n",
      "001_002_RNA_Blood_Scripps-14-1_06-10-15\n",
      "\tbase in read NS500704:50:HFLKTBGXX:2:11107:24341:6490 = C\n",
      "001_002_RNA_Blood_Scripps-7_11-25-14\n",
      "001_003_RNA_Blood_Scripps-8_11-25-14\n",
      "001_002_RNA_Blood_Scripps-1_09-25-14\n",
      "001_003_RNA_Blood_Scripps-6_10-29-14\n",
      "001_003_RNA_Blood_Scripps-2_09-25-14\n",
      "001_002_RNA_Blood_Scripps-11-1_03-17-15\n",
      "001_002_RNA_Blood_Scripps-12-1_04-06-15\n",
      "\tbase in read NS500704:45:HFHWCBGXX:4:21607:15586:13433 = C\n",
      "001_002_RNA_Blood_Scripps-15-1_07-02-15\n"
     ]
    }
   ],
   "source": [
    "for bam_file in bam_files:\n",
    "    sample = bam_file.split('/')[-2]\n",
    "    print sample\n",
    "    bam = pysam.Samfile(bam_file, 'rb')\n",
    "    pos = 7578442\n",
    "    for pileupcolumn in bam.pileup(\"17\",pos-1,pos):\n",
    "        if pileupcolumn.pos != pos:\n",
    "            continue\n",
    "        for pileupread in pileupcolumn.pileups:\n",
    "            print ('\\tbase in read %s = %s' %\n",
    "                (pileupread.alignment.qname,\n",
    "                 pileupread.alignment.query[pileupread.qpos-1]))"
   ]
  },
  {
   "cell_type": "code",
   "execution_count": null,
   "metadata": {
    "collapsed": true
   },
   "outputs": [],
   "source": []
  }
 ],
 "metadata": {
  "kernelspec": {
   "display_name": "Python 2",
   "language": "python",
   "name": "python2"
  },
  "language_info": {
   "codemirror_mode": {
    "name": "ipython",
    "version": 2
   },
   "file_extension": ".py",
   "mimetype": "text/x-python",
   "name": "python",
   "nbconvert_exporter": "python",
   "pygments_lexer": "ipython2",
   "version": "2.7.11"
  }
 },
 "nbformat": 4,
 "nbformat_minor": 0
}
