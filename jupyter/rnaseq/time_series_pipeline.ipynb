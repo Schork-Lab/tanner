{
 "cells": [
  {
   "cell_type": "markdown",
   "metadata": {},
   "source": [
    "# Time Series Pipeline: RNASeq data\n",
    "    For all designations/subclassifications of species in the microbiome, do the following\n",
    "    time series tests.\n",
    "    \n",
    "    1. For each time point, find classifications where its z-score deviates from all other time points\n",
    "    2. Treat each time point as the last time point, find linear trends\n",
    "    3. Do changepoint analysis based on differences between population and sliding window."
   ]
  },
  {
   "cell_type": "code",
   "execution_count": 60,
   "metadata": {
    "collapsed": false
   },
   "outputs": [
    {
     "name": "stdout",
     "output_type": "stream",
     "text": [
      "Populating the interactive namespace from numpy and matplotlib\n",
      "The autoreload extension is already loaded. To reload it, use:\n",
      "  %reload_ext autoreload\n"
     ]
    }
   ],
   "source": [
    "import sys\n",
    "\n",
    "# User Libraries\n",
    "import tanner.stats.timeseries as ts\n",
    "import tanner.stats.helpers as shelp\n",
    "import tanner.analysis.rnaseq as rs\n",
    "import tanner.visual.timeseries as vts\n",
    "\n",
    "# Python Libraries\n",
    "import pandas as pd\n",
    "import os \n",
    "import seaborn as sns\n",
    "\n",
    "# Ipython Configuration\n",
    "%pylab inline\n",
    "%load_ext autoreload\n",
    "%autoreload 2\n",
    "\n",
    "# Data and analysis paths\n",
    "rnaseq_path = \"/mounts/tscc/projects/Li-Fraumeni/data/family3/rna-seq/updated_runs/11292015_Tanner_RNASeq/\"\n",
    "analysis_path = \"/mounts/tscc/projects/Li-Fraumeni/analysis/rnaseq\""
   ]
  },
  {
   "cell_type": "code",
   "execution_count": 61,
   "metadata": {
    "collapsed": false
   },
   "outputs": [],
   "source": [
    "date = \"01192016\"\n",
    "analysis_path = os.path.join(analysis_path, date)\n",
    "if not os.path.exists(analysis_path): os.makedirs(analysis_path)\n",
    "sns.set_context(\"talk\", font_scale=1.2)\n",
    "sns.set_style(\"whitegrid\")"
   ]
  },
  {
   "cell_type": "markdown",
   "metadata": {},
   "source": [
    "###  Go through each file type and create relevant plots"
   ]
  },
  {
   "cell_type": "code",
   "execution_count": 65,
   "metadata": {
    "collapsed": true
   },
   "outputs": [],
   "source": [
    "data_df = rs.load_deseq(rnaseq_path, individual='002')"
   ]
  },
  {
   "cell_type": "code",
   "execution_count": 66,
   "metadata": {
    "collapsed": false
   },
   "outputs": [
    {
     "data": {
      "text/html": [
       "<div>\n",
       "<table border=\"1\" class=\"dataframe\">\n",
       "  <thead>\n",
       "    <tr style=\"text-align: right;\">\n",
       "      <th>symbol</th>\n",
       "      <th>DDX11L1</th>\n",
       "      <th>WASH7P</th>\n",
       "      <th>MIR1302-10</th>\n",
       "      <th>FAM138A</th>\n",
       "      <th>OR4G4P</th>\n",
       "      <th>OR4G11P</th>\n",
       "      <th>OR4F5</th>\n",
       "      <th>RP11-34P13.7</th>\n",
       "      <th>RP11-34P13.8</th>\n",
       "      <th>CICP27</th>\n",
       "      <th>...</th>\n",
       "      <th>MT-ND4</th>\n",
       "      <th>MT-TH</th>\n",
       "      <th>MT-TS2</th>\n",
       "      <th>MT-TL2</th>\n",
       "      <th>MT-ND5</th>\n",
       "      <th>MT-ND6</th>\n",
       "      <th>MT-TE</th>\n",
       "      <th>MT-CYB</th>\n",
       "      <th>MT-TT</th>\n",
       "      <th>MT-TP</th>\n",
       "    </tr>\n",
       "  </thead>\n",
       "  <tbody>\n",
       "    <tr>\n",
       "      <th>2014-09-25</th>\n",
       "      <td>-0.133548</td>\n",
       "      <td>1.858855</td>\n",
       "      <td>0</td>\n",
       "      <td>0</td>\n",
       "      <td>0</td>\n",
       "      <td>0</td>\n",
       "      <td>0</td>\n",
       "      <td>3.938958</td>\n",
       "      <td>0</td>\n",
       "      <td>6.871524</td>\n",
       "      <td>...</td>\n",
       "      <td>9.015825</td>\n",
       "      <td>0</td>\n",
       "      <td>0</td>\n",
       "      <td>0</td>\n",
       "      <td>8.760108</td>\n",
       "      <td>5.848129</td>\n",
       "      <td>0</td>\n",
       "      <td>8.959355</td>\n",
       "      <td>0</td>\n",
       "      <td>5.264223</td>\n",
       "    </tr>\n",
       "    <tr>\n",
       "      <th>2014-10-29</th>\n",
       "      <td>-0.167252</td>\n",
       "      <td>1.838836</td>\n",
       "      <td>0</td>\n",
       "      <td>0</td>\n",
       "      <td>0</td>\n",
       "      <td>0</td>\n",
       "      <td>0</td>\n",
       "      <td>4.018168</td>\n",
       "      <td>0</td>\n",
       "      <td>6.180839</td>\n",
       "      <td>...</td>\n",
       "      <td>9.163805</td>\n",
       "      <td>0</td>\n",
       "      <td>0</td>\n",
       "      <td>0</td>\n",
       "      <td>8.811117</td>\n",
       "      <td>5.446424</td>\n",
       "      <td>0</td>\n",
       "      <td>9.178837</td>\n",
       "      <td>0</td>\n",
       "      <td>5.877908</td>\n",
       "    </tr>\n",
       "    <tr>\n",
       "      <th>2014-11-25</th>\n",
       "      <td>0.066191</td>\n",
       "      <td>1.669260</td>\n",
       "      <td>0</td>\n",
       "      <td>0</td>\n",
       "      <td>0</td>\n",
       "      <td>0</td>\n",
       "      <td>0</td>\n",
       "      <td>3.902033</td>\n",
       "      <td>0</td>\n",
       "      <td>7.348003</td>\n",
       "      <td>...</td>\n",
       "      <td>9.291458</td>\n",
       "      <td>0</td>\n",
       "      <td>0</td>\n",
       "      <td>0</td>\n",
       "      <td>8.851813</td>\n",
       "      <td>5.864704</td>\n",
       "      <td>0</td>\n",
       "      <td>9.053104</td>\n",
       "      <td>0</td>\n",
       "      <td>5.406491</td>\n",
       "    </tr>\n",
       "    <tr>\n",
       "      <th>2014-12-19</th>\n",
       "      <td>-0.129562</td>\n",
       "      <td>1.596803</td>\n",
       "      <td>0</td>\n",
       "      <td>0</td>\n",
       "      <td>0</td>\n",
       "      <td>0</td>\n",
       "      <td>0</td>\n",
       "      <td>4.121893</td>\n",
       "      <td>0</td>\n",
       "      <td>6.449629</td>\n",
       "      <td>...</td>\n",
       "      <td>8.468865</td>\n",
       "      <td>0</td>\n",
       "      <td>0</td>\n",
       "      <td>0</td>\n",
       "      <td>8.528305</td>\n",
       "      <td>5.765864</td>\n",
       "      <td>0</td>\n",
       "      <td>8.431140</td>\n",
       "      <td>0</td>\n",
       "      <td>5.178837</td>\n",
       "    </tr>\n",
       "    <tr>\n",
       "      <th>2015-02-02</th>\n",
       "      <td>-0.125927</td>\n",
       "      <td>1.645826</td>\n",
       "      <td>0</td>\n",
       "      <td>0</td>\n",
       "      <td>0</td>\n",
       "      <td>0</td>\n",
       "      <td>0</td>\n",
       "      <td>4.069842</td>\n",
       "      <td>0</td>\n",
       "      <td>6.142796</td>\n",
       "      <td>...</td>\n",
       "      <td>8.385469</td>\n",
       "      <td>0</td>\n",
       "      <td>0</td>\n",
       "      <td>0</td>\n",
       "      <td>8.396658</td>\n",
       "      <td>5.374124</td>\n",
       "      <td>0</td>\n",
       "      <td>8.414193</td>\n",
       "      <td>0</td>\n",
       "      <td>5.236790</td>\n",
       "    </tr>\n",
       "  </tbody>\n",
       "</table>\n",
       "<p>5 rows × 55882 columns</p>\n",
       "</div>"
      ],
      "text/plain": [
       "symbol       DDX11L1    WASH7P  MIR1302-10  FAM138A  OR4G4P  OR4G11P  OR4F5  \\\n",
       "2014-09-25 -0.133548  1.858855           0        0       0        0      0   \n",
       "2014-10-29 -0.167252  1.838836           0        0       0        0      0   \n",
       "2014-11-25  0.066191  1.669260           0        0       0        0      0   \n",
       "2014-12-19 -0.129562  1.596803           0        0       0        0      0   \n",
       "2015-02-02 -0.125927  1.645826           0        0       0        0      0   \n",
       "\n",
       "symbol      RP11-34P13.7  RP11-34P13.8    CICP27    ...       MT-ND4  MT-TH  \\\n",
       "2014-09-25      3.938958             0  6.871524    ...     9.015825      0   \n",
       "2014-10-29      4.018168             0  6.180839    ...     9.163805      0   \n",
       "2014-11-25      3.902033             0  7.348003    ...     9.291458      0   \n",
       "2014-12-19      4.121893             0  6.449629    ...     8.468865      0   \n",
       "2015-02-02      4.069842             0  6.142796    ...     8.385469      0   \n",
       "\n",
       "symbol      MT-TS2  MT-TL2    MT-ND5    MT-ND6  MT-TE    MT-CYB  MT-TT  \\\n",
       "2014-09-25       0       0  8.760108  5.848129      0  8.959355      0   \n",
       "2014-10-29       0       0  8.811117  5.446424      0  9.178837      0   \n",
       "2014-11-25       0       0  8.851813  5.864704      0  9.053104      0   \n",
       "2014-12-19       0       0  8.528305  5.765864      0  8.431140      0   \n",
       "2015-02-02       0       0  8.396658  5.374124      0  8.414193      0   \n",
       "\n",
       "symbol         MT-TP  \n",
       "2014-09-25  5.264223  \n",
       "2014-10-29  5.877908  \n",
       "2014-11-25  5.406491  \n",
       "2014-12-19  5.178837  \n",
       "2015-02-02  5.236790  \n",
       "\n",
       "[5 rows x 55882 columns]"
      ]
     },
     "execution_count": 66,
     "metadata": {},
     "output_type": "execute_result"
    }
   ],
   "source": [
    "data_df.head()"
   ]
  },
  {
   "cell_type": "code",
   "execution_count": null,
   "metadata": {
    "collapsed": false
   },
   "outputs": [
    {
     "name": "stdout",
     "output_type": "stream",
     "text": [
      "8.9474249311e-09\n",
      "[ 0.38648978  0.19347677  1.          1.          1.        ]\n",
      "0"
     ]
    }
   ],
   "source": [
    "rs.process_timeseries(data_df, analysis_path, pvalue=0.05/100)"
   ]
  },
  {
   "cell_type": "code",
   "execution_count": null,
   "metadata": {
    "collapsed": true
   },
   "outputs": [],
   "source": []
  }
 ],
 "metadata": {
  "kernelspec": {
   "display_name": "Python 2",
   "language": "python",
   "name": "python2"
  },
  "language_info": {
   "codemirror_mode": {
    "name": "ipython",
    "version": 2
   },
   "file_extension": ".py",
   "mimetype": "text/x-python",
   "name": "python",
   "nbconvert_exporter": "python",
   "pygments_lexer": "ipython2",
   "version": "2.7.10"
  }
 },
 "nbformat": 4,
 "nbformat_minor": 0
}
