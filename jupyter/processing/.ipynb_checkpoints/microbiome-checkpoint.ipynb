{
 "metadata": {
  "name": "",
  "signature": "sha256:43557af466c2b55f58526977c9470318f08dc99a82b28169d8f0062c25540a9c"
 },
 "nbformat": 3,
 "nbformat_minor": 0,
 "worksheets": []
}